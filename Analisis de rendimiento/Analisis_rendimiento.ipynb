{
  "nbformat": 4,
  "nbformat_minor": 0,
  "metadata": {
    "colab": {
      "provenance": []
    },
    "kernelspec": {
      "name": "python3",
      "display_name": "Python 3"
    },
    "language_info": {
      "name": "python"
    }
  },
  "cells": [
    {
      "cell_type": "code",
      "execution_count": 35,
      "metadata": {
        "colab": {
          "base_uri": "https://localhost:8080/"
        },
        "id": "rczjCyduC6gX",
        "outputId": "bd287893-6432-40d8-da3e-4d99726ff400"
      },
      "outputs": [
        {
          "output_type": "stream",
          "name": "stdout",
          "text": [
            "Intercept:  4.425814068022737\n",
            "Coefficients:  [ 0.38616699 -0.85010793]\n",
            "comparing prediction and regular values\n",
            "The prediction error is:  0.5519955239999369\n"
          ]
        }
      ],
      "source": [
        "import pandas as pd\n",
        "import sys\n",
        "import subprocess\n",
        "import matplotlib.pyplot as plt\n",
        "import numpy as np\n",
        "from sklearn import linear_model\n",
        "import statsmodels.api as sm\n",
        "from sklearn.metrics import mean_squared_error\n",
        "from sklearn.model_selection import cross_validate, train_test_split, learning_curve\n",
        "\n",
        "# First, I define the column names for the dataset to use\n",
        "names = [\"fixed acidity\",\"volatile acidity\",\"citric acid\",\"residual sugar\",\"chlorides\",\"free sulfur dioxide\",\"total sulfur dioxide\",\"density\",\"pH\",\"sulphates\",\"alcohol\",\"quality\"]\n",
        "\n",
        "# I read the dataset and store it in a dataframe from pandas\n",
        "df = pd.read_csv('winequality-red 2.csv',names=names , sep=';')\n",
        "\n",
        "# I select alcohol and ph as my independent variables\n",
        "x = df[['alcohol','pH']]\n",
        "# The wine quality will be the dependent variable, the one to be predicted\n",
        "y = df['quality']\n",
        "x_train, x_test, y_train, y_test = train_test_split(x,\n",
        "                                                    y,\n",
        "                                                    test_size=0.3,\n",
        "                                                    random_state=101)\n",
        "\n",
        "# we create aa linear regression model using the sklearn library\n",
        "r = linear_model.LinearRegression()\n",
        "r.fit(x, y)\n",
        "\n",
        "# now we print out model values \n",
        "print('Intercept: ', r.intercept_)\n",
        "print('Coefficients: ', r.coef_)\n",
        "\n",
        "print (\"comparing prediction and regular values\")\n",
        "predictions = r.predict(x_test)\n",
        "error = mean_squared_error(y_test, predictions)\n",
        "\n",
        "print (\"The prediction error is: \", error) \n"
      ]
    },
    {
      "cell_type": "markdown",
      "source": [
        "This is the model that I create at fisrt. it predicts the value of the wine quality based on the ph and the alcohol ammounts-\n",
        "\n",
        "To create this model, i divided the dataset into two different sets. the first one is for training the model, and the second one is for testing.\n",
        "\n",
        "this division helps to identify different situations, such as underfitting and overfitting."
      ],
      "metadata": {
        "id": "v5esoHP_VAYF"
      }
    },
    {
      "cell_type": "code",
      "source": [
        "train_predict = r.predict(x_train)\n",
        "test_predict = r.predict(x_test)\n",
        "\n",
        "print(\"El MSE de train es \", mean_squared_error( y_train, train_predict))            \n",
        "print(\"El MSE de test es \", mean_squared_error( y_test, test_predict))\n"
      ],
      "metadata": {
        "colab": {
          "base_uri": "https://localhost:8080/"
        },
        "id": "D7ACL_EiFAvZ",
        "outputId": "1d2b9acf-4a0a-441e-c311-9cdb8963fd00"
      },
      "execution_count": 36,
      "outputs": [
        {
          "output_type": "stream",
          "name": "stdout",
          "text": [
            "El MSE de train es  0.45983067028928915\n",
            "El MSE de test es  0.5519955239999369\n"
          ]
        }
      ]
    },
    {
      "cell_type": "markdown",
      "source": [
        "Here we can observe that we have found a model that has a relatively low error. \n",
        "\n",
        "The difference between both errors is not so big, but we can see that we have a 20% difference between the train error and the test one. This can indicate that we have a case of light overfitting, as the model could be memorizing the values from the training dataset. \n",
        "\n",
        "This also indicates that we have a medium strength bias as the model has adjusted itself to match the values from training, having a displacement when comaring them to the testing data"
      ],
      "metadata": {
        "id": "zWEzk4_SWlvl"
      }
    },
    {
      "cell_type": "code",
      "source": [
        "#Now I will validate the model using cross validation"
      ],
      "metadata": {
        "id": "wBD3Gw9IXTzG"
      },
      "execution_count": null,
      "outputs": []
    },
    {
      "cell_type": "code",
      "source": [
        "train_sizes, train_scores, test_scores = learning_curve(r, x, y)\n",
        "# Mean and STD of the train scores\n",
        "train_mean = np.mean(train_scores, axis=1)\n",
        "train_std = np.std(train_scores, axis=1)\n",
        "# Mean and STD of the test scores\n",
        "test_mean = np.mean(test_scores, axis=1)\n",
        "test_std = np.std(test_scores, axis=1)\n",
        "\n",
        "\n",
        "plt.title(\"Errores respecto a la epoca\")\n",
        "plt.plot(train_sizes, train_mean, \"o-\", color=\"g\", label='Training')\n",
        "\n",
        "plt.plot(train_sizes, test_mean, \"o-\", color=\"b\", label='Cross-validation')\n",
        "plt.xlabel(\"Épocas\")\n",
        "plt.ylabel(\"Error\")\n",
        "plt.legend(loc=\"best\")\n",
        "plt.grid()\n",
        "plt.show()\n"
      ],
      "metadata": {
        "colab": {
          "base_uri": "https://localhost:8080/",
          "height": 297
        },
        "id": "XDb8MHgLSJzQ",
        "outputId": "92ecccbc-2ef1-48e4-96b0-d4dbd576c93b"
      },
      "execution_count": 37,
      "outputs": [
        {
          "output_type": "display_data",
          "data": {
            "text/plain": [
              "<Figure size 432x288 with 1 Axes>"
            ],
            "image/png": "[encoded data removed]"
          },
          "metadata": {
            "needs_background": "light"
          }
        }
      ]
    },
    {
      "cell_type": "markdown",
      "source": [
        "Here we can see that the distance between both errors is not that big. However, we want it to be as small as possible, so we will adjust our model to avoid this overfitting"
      ],
      "metadata": {
        "id": "9jm-QycxXdJ7"
      }
    },
    {
      "cell_type": "code",
      "source": [
        "x_train2, x_test2, y_train2, y_test2 = train_test_split(x,\n",
        "                                                    y,\n",
        "                                                    test_size=0.4,\n",
        "                                                    random_state=5)\n",
        "\n",
        "# we create aa linear regression model using the sklearn library\n",
        "r2 = linear_model.LinearRegression()\n",
        "r2.fit(x, y)\n",
        "\n",
        "# now we print out model values \n",
        "print('Intercept: ', r2.intercept_)\n",
        "print('Coefficients: ', r2.coef_)\n",
        "\n",
        "print (\"comparing prediction and regular values\")\n",
        "predictions2 = r2.predict(x_test2)\n",
        "error2 = mean_squared_error(y_test2, predictions2)\n",
        "\n",
        "print (\"The prediction error is: \", error2) \n"
      ],
      "metadata": {
        "colab": {
          "base_uri": "https://localhost:8080/"
        },
        "id": "n8_xpXb0TZj7",
        "outputId": "80501835-5681-4377-d778-b5a79a0455b4"
      },
      "execution_count": 38,
      "outputs": [
        {
          "output_type": "stream",
          "name": "stdout",
          "text": [
            "Intercept:  4.425814068022737\n",
            "Coefficients:  [ 0.38616699 -0.85010793]\n",
            "comparing prediction and regular values\n",
            "The prediction error is:  0.5003862852120513\n"
          ]
        }
      ]
    },
    {
      "cell_type": "markdown",
      "source": [
        "This second model has a better distribution of the dataset. This is considered as an adjustment to an hyper parameter. Now we will get a different modelation with slightly different coeficcients and intercept."
      ],
      "metadata": {
        "id": "tbDPqCrNXqhU"
      }
    },
    {
      "cell_type": "code",
      "source": [
        "train_predict2 = r2.predict(x_train2)\n",
        "test_predict2 = r2.predict(x_test2)\n",
        "\n",
        "print(\"El MSE de train es \", mean_squared_error( y_train2, train_predict2))            \n",
        "print(\"El MSE de test es \", mean_squared_error( y_test2, test_predict2))"
      ],
      "metadata": {
        "colab": {
          "base_uri": "https://localhost:8080/"
        },
        "id": "8pok7Mp4UHm9",
        "outputId": "e0c8b310-fe1b-4e7a-a439-747a0cde9e24"
      },
      "execution_count": 39,
      "outputs": [
        {
          "output_type": "stream",
          "name": "stdout",
          "text": [
            "El MSE de train es  0.478895880123015\n",
            "El MSE de test es  0.5003862852120513\n"
          ]
        }
      ]
    },
    {
      "cell_type": "markdown",
      "source": [
        "Now we can see that the difference between both errors has been reduced significantly. This means that we have solved our overfitting issue, and it also tells us that we have a case with a low bias and a low variance. being the low bias observed with the small change in the error when modifing the dataset, and the low variance is observed with the small magnitude of the error."
      ],
      "metadata": {
        "id": "iJLkWRbKYJhM"
      }
    },
    {
      "cell_type": "code",
      "source": [
        "train_sizes2, train_scores2, test_scores2 = learning_curve(r2, x, y)\n",
        "train_mean2 = np.mean(train_scores2, axis=1)\n",
        "train_std2 = np.std(train_scores2, axis=1)\n",
        "test_mean2 = np.mean(test_scores2, axis=1)\n",
        "test_std2 = np.std(test_scores2, axis=1)\n",
        "\n",
        "\n",
        "plt.title(\"Errores respecto a la epoca (Segundo modelo)\")\n",
        "plt.plot(train_sizes2, train_mean, \"o-\", color=\"g\", label='Training')\n",
        "\n",
        "plt.plot(train_sizes2, test_mean, \"o-\", color=\"b\", label='Cross-validation')\n",
        "plt.xlabel(\"Épocas\")\n",
        "plt.ylabel(\"Error\")\n",
        "plt.legend(loc=\"best\")\n",
        "plt.grid()\n",
        "plt.show()"
      ],
      "metadata": {
        "colab": {
          "base_uri": "https://localhost:8080/",
          "height": 297
        },
        "id": "oljYnSRqULX9",
        "outputId": "7c07d7f4-4498-412f-9353-297819f9d0e1"
      },
      "execution_count": 40,
      "outputs": [
        {
          "output_type": "display_data",
          "data": {
            "text/plain": [
              "<Figure size 432x288 with 1 Axes>"
            ],
            "image/png": "[encoded data removed]"
          },
          "metadata": {
            "needs_background": "light"
          }
        }
      ]
    },
    {
      "cell_type": "markdown",
      "source": [
        "Now we can see that the difference between the training errors and the validation ones are also smaller. Something interesting to observe is that we find that the errors are almost the same in the epoch #400, and in epoch 500 they are equal. \n",
        "\n",
        "This could also be an indicator of a slight remainance of overfitting that could be solved by delimiting the epochs to 500, so this could be a future improvement to be implemented."
      ],
      "metadata": {
        "id": "-2eeXb1CYxCv"
      }
    }
  ]
}